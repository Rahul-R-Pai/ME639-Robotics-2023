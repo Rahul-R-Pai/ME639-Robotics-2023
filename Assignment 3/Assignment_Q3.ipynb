{
  "nbformat": 4,
  "nbformat_minor": 0,
  "metadata": {
    "colab": {
      "provenance": []
    },
    "kernelspec": {
      "name": "python3",
      "display_name": "Python 3"
    },
    "language_info": {
      "name": "python"
    }
  },
  "cells": [
    {
      "cell_type": "code",
      "execution_count": 31,
      "metadata": {
        "colab": {
          "base_uri": "https://localhost:8080/"
        },
        "id": "cCAacY9FElpq",
        "outputId": "4cddf5f1-a61b-481a-8228-b0cc402857a9"
      },
      "outputs": [
        {
          "name": "stdout",
          "output_type": "stream",
          "text": [
            "Enter number of links:\n",
            "6\n",
            "Enter DH parameters for link 1 (d, theta, r, alpha):\n",
            "0 0.39269908169 1 0\n",
            "Enter DH parameters for link 2 (d, theta, r, alpha):\n",
            "0 0.78539816339 1 0\n",
            "Enter DH parameters for link 3 (d, theta, r, alpha):\n",
            "0 3.14159265359 0 -1.57079632679\n",
            "Enter DH parameters for link 4 (d, theta, r, alpha):\n",
            "0 1.57079632679 0 1.57079632679\n",
            "Enter DH parameters for link 5 (d, theta, r, alpha):\n",
            "0 0.52359877559 0 0\n"
          ]
        }
      ],
      "source": [
        "import math as m\n",
        "import numpy as np\n",
        "\n",
        "print(\"Enter number of links:\")\n",
        "l = int(input()) #number of links\n",
        "\n",
        "dh = np.zeros((l,4)) #empty matrix for DH parameters\n",
        "\n",
        "for i in range(l-1):\n",
        "    print(\"Enter DH parameters for link \"+ str(i+1) + \" (d, theta, r, alpha):\")\n",
        "    inp = list(map(float, input().strip().split()))[:4]\n",
        "    dh[i] = inp\n",
        "\n",
        "H = [0]*(l)\n",
        "H[0] = np.identity(4)\n",
        "H0 = np.identity(4) #overall transformation matrix\n",
        "\n",
        "for i in range(l-1):\n",
        "   d = dh[i][0]\n",
        "   theta = dh[i][1]\n",
        "   r = dh[i][2]\n",
        "   alpha = dh[i][3]\n",
        "   Z = [[m.cos(theta), -1*m.sin(theta), 0, 0], #transforation matrix, Z operations\n",
        "       [m.sin(theta), m.cos(theta), 0, 0],\n",
        "       [0, 0, 1, d],\n",
        "       [0, 0, 0, 1]]\n",
        "   X = [[1, 0, 0, r], #transforation matrix, X operations\n",
        "       [0, m.cos(alpha), -1*m.sin(alpha), 0],\n",
        "       [0, m.sin(alpha), m.cos(alpha), 0],\n",
        "       [0, 0, 0, 1]]\n",
        "   H[i+1] = np.matmul(Z,X)\n",
        "   H0 = H0@H[i+1]"
      ]
    },
    {
      "cell_type": "code",
      "source": [
        "ee = [H0[0][3],H0[1][3],H0[2][3]] # The position of the end effector(last origin) wrt base\n",
        "o = np.zeros(3) #Positions of EE wrt current frame\n",
        "j = np.zeros((6,l)) #Empty jacobian\n",
        "joint_type = input(\"Enter type of joint of each links seperated with space(prismatic/revolute) (include end effector too): \").strip().split()\n",
        "\n",
        "h = np.identity(4)\n",
        "for i in range(l):\n",
        "  h = h@H[i]\n",
        "  z = [h[0][2], h[1][2], h[2][2]]\n",
        "\n",
        "  if joint_type[i] == \"prismatic\":\n",
        "    j[0][i] = z[0]\n",
        "    j[1][i] = z[1]\n",
        "    j[2][i] = z[2]\n",
        "    j[3][i] = 0\n",
        "    j[4][i] = 0\n",
        "    j[5][i] = 0\n",
        "  else:\n",
        "    oi = [h[0][3], h[1][3], h[2][3]] #position of current frame origin wrt base origin\n",
        "    #calculation of o:\n",
        "    o[0] = ee[0] - oi[0]\n",
        "    o[1] = ee[1] - oi[1]\n",
        "    o[2] = ee[2] - oi[2]\n",
        "    zxoi = (z[1]*o[2]) - (o[1]*z[2])\n",
        "    zxoj = (o[0]*z[2]) - (z[0]*o[2])\n",
        "    zxok = (z[0]*o[1]) - (o[0]*z[1])\n",
        "    zxo = [zxoi, zxoj, zxok] #cross product of z and o\n",
        "    j[0][i] = zxo[0]\n",
        "    j[1][i] = zxo[1]\n",
        "    j[2][i] = zxo[2]\n",
        "    j[3][i] = z[0]\n",
        "    j[4][i] = z[1]\n",
        "    j[5][i] = z[2]"
      ],
      "metadata": {
        "colab": {
          "base_uri": "https://localhost:8080/"
        },
        "id": "Co9W-m0OEn6f",
        "outputId": "066fee62-4325-4397-8557-e600ecae2240"
      },
      "execution_count": 32,
      "outputs": [
        {
          "name": "stdout",
          "output_type": "stream",
          "text": [
            "Enter type of joint of each links seperated with space(prismatic/revolute) (include end effector too): rev rev rev rev rev rev\n"
          ]
        }
      ]
    },
    {
      "cell_type": "code",
      "source": [
        "print(j) #Complete manipulator Jacobian"
      ],
      "metadata": {
        "colab": {
          "base_uri": "https://localhost:8080/"
        },
        "id": "7YM3_SpwGLcG",
        "outputId": "a4c6ad36-394a-4b44-c33a-d010f0af8b3f"
      },
      "execution_count": 33,
      "outputs": [
        {
          "output_type": "stream",
          "name": "stdout",
          "text": [
            "[[-1.30656296e+00 -9.23879533e-01  0.00000000e+00 -0.00000000e+00\n",
            "  -0.00000000e+00 -0.00000000e+00]\n",
            " [ 1.30656296e+00  3.82683432e-01  0.00000000e+00  0.00000000e+00\n",
            "   0.00000000e+00  0.00000000e+00]\n",
            " [ 0.00000000e+00  0.00000000e+00  0.00000000e+00  0.00000000e+00\n",
            "   0.00000000e+00  0.00000000e+00]\n",
            " [ 0.00000000e+00  0.00000000e+00  0.00000000e+00  9.23879533e-01\n",
            "  -3.82683432e-01 -3.82683432e-01]\n",
            " [ 0.00000000e+00  0.00000000e+00  0.00000000e+00 -3.82683432e-01\n",
            "  -9.23879533e-01 -9.23879533e-01]\n",
            " [ 1.00000000e+00  1.00000000e+00  1.00000000e+00  4.89658886e-12\n",
            "   4.89658886e-12  4.89658886e-12]]\n"
          ]
        }
      ]
    },
    {
      "cell_type": "code",
      "source": [
        "print(ee) #End Effector Position"
      ],
      "metadata": {
        "id": "W-FpToAJE9VP"
      },
      "execution_count": null,
      "outputs": []
    },
    {
      "cell_type": "code",
      "source": [
        "qdot = list(map(float,input(\"Enter qdot values: \").strip().split())) # rate of change of joint variables"
      ],
      "metadata": {
        "id": "4Ssff2a6GQg_"
      },
      "execution_count": null,
      "outputs": []
    },
    {
      "cell_type": "code",
      "source": [
        "xdot = j@qdot\n",
        "print(\"Final linear velocities: \", xdot[0], xdot[1], xdot[2],\"\\n\")\n",
        "print(\"Final angular velocities: \", xdot[3], xdot[4], xdot[5])"
      ],
      "metadata": {
        "id": "RHwAT6LcGVqX"
      },
      "execution_count": null,
      "outputs": []
    }
  ]
}