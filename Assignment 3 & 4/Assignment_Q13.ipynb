{
  "nbformat": 4,
  "nbformat_minor": 0,
  "metadata": {
    "colab": {
      "provenance": []
    },
    "kernelspec": {
      "name": "python3",
      "display_name": "Python 3"
    },
    "language_info": {
      "name": "python"
    }
  },
  "cells": [
    {
      "cell_type": "code",
      "execution_count": 5,
      "metadata": {
        "id": "QS_UWljb64a5"
      },
      "outputs": [],
      "source": [
        "import numpy as np\n",
        "\n",
        "d1 = 1.0\t#in m\n",
        "d2 = 1.0\t#in m\n",
        "d3 = 1.0\t#in m\n",
        "\n",
        "x, y, z = np.random.rand(3) * [np.sqrt(d2**2 + d3**2), np.sqrt(d2**2 + d3**2), d1]"
      ]
    },
    {
      "cell_type": "code",
      "source": [
        "def inverse_kinematics(x, y, z) -> np.ndarray :\n",
        "  theta = np.arccos((x**2 + y**2 - d2**2 - d3**2)/(2.0 * d2 * d3))\n",
        "  theta *= 1 - 2 * (np.signbit(x))\n",
        "  phi\t= np.arctan2(y, x)\n",
        "  varphi = np.arctan2(d3 * np.sin(theta),(d2 + d3 * np.cos(theta)))\n",
        "  return np.array([phi + varphi, -theta, d1 - z])"
      ],
      "metadata": {
        "id": "Aj4NkEIr7CQ0"
      },
      "execution_count": 6,
      "outputs": []
    },
    {
      "cell_type": "code",
      "source": [
        "state = inverse_kinematics(x, y, z)\n",
        "state"
      ],
      "metadata": {
        "colab": {
          "base_uri": "https://localhost:8080/"
        },
        "id": "M2CCgL9k7Ja1",
        "outputId": "6badf817-7e7a-4a84-ced0-7dfff4ebb418"
      },
      "execution_count": 7,
      "outputs": [
        {
          "output_type": "execute_result",
          "data": {
            "text/plain": [
              "array([ 2.73794233, -2.49455387,  0.46614821])"
            ]
          },
          "metadata": {},
          "execution_count": 7
        }
      ]
    }
  ]
}