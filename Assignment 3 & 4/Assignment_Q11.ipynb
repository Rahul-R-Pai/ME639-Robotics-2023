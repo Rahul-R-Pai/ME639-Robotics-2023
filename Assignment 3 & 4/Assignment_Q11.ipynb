{
  "nbformat": 4,
  "nbformat_minor": 0,
  "metadata": {
    "colab": {
      "provenance": []
    },
    "kernelspec": {
      "name": "python3",
      "display_name": "Python 3"
    },
    "language_info": {
      "name": "python"
    }
  },
  "cells": [
    {
      "cell_type": "code",
      "execution_count": null,
      "metadata": {
        "id": "hTya0tQu06uA"
      },
      "outputs": [],
      "source": [
        "import sympy as sym\n",
        "import numpy as np\n",
        "\n",
        "dof = int(input())\n",
        "g = [] #initializing the dV/dqk matrix\n",
        "v = sym.sympify(input()) #V(q) input\n",
        "\n",
        "for i in range(n):\n",
        "  g.append(sym.diff(v,sym.symbols(\"q\"+str(i+1)))) #calculating values of g"
      ]
    },
    {
      "cell_type": "code",
      "source": [
        "d = [] #D(q)\n",
        "for i in range(n):\n",
        "  d_row = []\n",
        "  for j in range(n):\n",
        "    d_row.append(sym.sympify(input()))\n",
        "  d.append(d_row) #D(q) input"
      ],
      "metadata": {
        "id": "aQW00Okj23No"
      },
      "execution_count": null,
      "outputs": []
    },
    {
      "cell_type": "code",
      "source": [
        "c = [] #initializing matrix for christoffel's symbols of the first kind\n",
        "for k in range(n):\n",
        "  c_row = []\n",
        "  for i in range(n):\n",
        "    for j in range(n):\n",
        "      A = sym.diff(d[k][j],sym.symbols(\"q\"+str(i+1)))\n",
        "      B = sym.diff(d[k][i],sym.symbols(\"q\"+str(j+1)))\n",
        "      C = sym.diff(d[i][j],sym.symbols(\"q\"+str(k+1)))\n",
        "      c_row.append(0.5*(A+B-C)) #calculation of cijk\n",
        "  c.append(c_row)"
      ],
      "metadata": {
        "id": "34F25mQV1ys5"
      },
      "execution_count": null,
      "outputs": []
    },
    {
      "cell_type": "code",
      "source": [
        "#creating new symbols for first and second order derivatives of q\n",
        "qdot = []\n",
        "qdotdot = []\n",
        "for k in range(n):\n",
        "  qdotdot.append(sym.symbols(\"q\"+str(k+1)+\"dotdot\"))\n",
        "  qdot.append(sym.symbols(\"q\"+str(k+1)+\"dot\"))\n",
        "#finding torque, i.e. dynamic equations\n",
        "tau = []\n",
        "for k in range(n):\n",
        "  D = 0\n",
        "  for i in range(n):\n",
        "    D = D+d[k][i]*qdotdot[i]\n",
        "  tau.append(D+g[k]) #tau = D(q)q\"+ g(q)\n",
        "for k in range(n):\n",
        "  C = 0\n",
        "  p = 0\n",
        "  for i in range(n):\n",
        "    for j in range(n):\n",
        "      C = C + c[k][p]*qdot[i]*qdot[j]\n",
        "      p = p+1\n",
        "  tau[k] = tau[k]+C #tau = D(q)q\" + C(q,q')q' + g(q)\n",
        "tau #matrix for system's dynamic equations, where tau[k] = torque at a particular joint"
      ],
      "metadata": {
        "id": "aLnXyRlA2GvI"
      },
      "execution_count": null,
      "outputs": []
    }
  ]
}